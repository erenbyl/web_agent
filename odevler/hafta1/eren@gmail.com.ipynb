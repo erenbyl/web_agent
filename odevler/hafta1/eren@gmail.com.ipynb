{
 "cells": [
  {
   "cell_type": "markdown",
   "metadata": {},
   "source": [
    "\n",
    "ÖDEV: Bir üçgenin tabanını ve yüksekliğini uygun değişkenlere ata. Ardından değişkenleri kullanarak üçgenin alanını hesapla.\n"
   ]
  },
  {
   "cell_type": "code",
   "execution_count": null,
   "metadata": {},
   "outputs": [
    {
     "name": "stdout",
     "output_type": "stream",
     "text": [
      "25 sayisinin karekökü: 6.898648307306074\n"
     ]
    }
   ],
   "source": [
    "taban = 9  \n",
    "yukseklik = 4  \n",
    "\n",
    "alan = (taban * yukseklik) / 2\n",
    "\n",
    "print(f\"Üçgenin alanı: {alan} birim kare\")"
   ]
  },
  {
   "cell_type": "markdown",
   "metadata": {},
   "source": [
    "ÖDEV: Kullanıcının girdiği bir sayının faktöriyelini hesaplayan programı yazın."
   ]
  },
  {
   "cell_type": "code",
   "execution_count": null,
   "metadata": {},
   "outputs": [],
   "source": [
    "sayi = int(input(\"Faktöriyelini almak istediğiniz sayı: \"))\n",
    "faktoriyel = 1\n",
    "\n",
    "if sayi < 0:\n",
    "    print(\"Negatif sayıların faktöriyeli alınamaz.\")\n",
    "else:\n",
    "    for i in range(1, sayi + 1):\n",
    "        faktoriyel *= i\n",
    "    print(f\"{sayi}! = {faktoriyel}\")\n"
   ]
  },
  {
   "cell_type": "markdown",
   "metadata": {},
   "source": [
    "ÖDEV: Kullanıcının girdiği bir kelimenin ters çevrilmiş halini ekrana yazdıran programı yazın."
   ]
  },
  {
   "cell_type": "code",
   "execution_count": null,
   "metadata": {},
   "outputs": [],
   "source": [
    "kelime = input(\"Bir kelime girin: \")\n",
    "ters_kelime = kelime[::-1]\n",
    "print(f\"Ters hali: {ters_kelime}\")"
   ]
  },
  {
   "cell_type": "markdown",
   "metadata": {},
   "source": [
    "ÖDEV: Klavyeden girilen sayının asal sayı olup olmadığını bulan\n",
    "programı yazınız."
   ]
  },
  {
   "cell_type": "code",
   "execution_count": null,
   "metadata": {},
   "outputs": [],
   "source": [
    "control = False\n",
    "num = int(input(\"bir sayi giriniz : \"))\n",
    "\n",
    "for i in range(2, int(num)):\n",
    "    if(num % i == 0):\n",
    "        control = True\n",
    "        break\n",
    "\n",
    "if (control):\n",
    "    print(f\"{num} bir asal sayı değildir.\")\n",
    "else:\n",
    "    print(f\"{num} bir asal sayıdır.\")"
   ]
  },
  {
   "cell_type": "markdown",
   "metadata": {},
   "source": [
    "ÖDEV: Bir Dikdörtgen sınıfı oluşturun. Bu sınıf, dikdörtgenlerin genel özelliklerini (uzunluk ve genişlik gibi) içermelidir. Ayrıca, dikdörtgenin alanını ve çevresini hesaplayan örnek metotlar ekleyin."
   ]
  },
  {
   "cell_type": "code",
   "execution_count": null,
   "metadata": {},
   "outputs": [],
   "source": [
    "class Rectangle:\n",
    "    def __init__(self, width, height):\n",
    "        self.width = width\n",
    "        self.height = height"
   ]
  },
  {
   "cell_type": "markdown",
   "metadata": {},
   "source": [
    "ÖDEV: 1 ile 100 arasında rastgele bir sayı seçen ve kullanıcının bu sayıyı tahmin etmesini isteyen bir program yazınız. Kullanıcı her tahmininden sonra program şu geri bildirimlerden birini vermelidir: \"daha küçük bir sayı giriniz.\", \"daha büyük bir sayı giriniz.\", \"tebrikler, doğru tahmin!\" \n",
    "Not: random.randint fonksiyonunu kullanabilirsiniz."
   ]
  },
  {
   "cell_type": "code",
   "execution_count": null,
   "metadata": {},
   "outputs": [],
   "source": []
  }
 ],
 "metadata": {
  "kernelspec": {
   "display_name": "Python 3",
   "language": "python",
   "name": "python3"
  },
  "language_info": {
   "codemirror_mode": {
    "name": "ipython",
    "version": 3
   },
   "file_extension": ".py",
   "mimetype": "text/x-python",
   "name": "python",
   "nbconvert_exporter": "python",
   "pygments_lexer": "ipython3",
   "version": "3.11.9"
  }
 },
 "nbformat": 4,
 "nbformat_minor": 2
}
